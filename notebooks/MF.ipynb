{
 "cells": [
  {
   "cell_type": "markdown",
   "metadata": {},
   "source": [
    "# MF\n",
    "\n",
    "## 方針\n",
    "\n",
    "* 20%の既出ではないユーザーに対しては、階層ベイズでanimeの平均を割り当てる。\n",
    "* その他のユーザーについては、MFで普通に推薦。"
   ]
  },
  {
   "cell_type": "code",
   "execution_count": 1,
   "metadata": {},
   "outputs": [
    {
     "data": {
      "text/html": [
       "        <script type=\"text/javascript\">\n",
       "        window.PlotlyConfig = {MathJaxConfig: 'local'};\n",
       "        if (window.MathJax && window.MathJax.Hub && window.MathJax.Hub.Config) {window.MathJax.Hub.Config({SVG: {font: \"STIX-Web\"}});}\n",
       "        if (typeof require !== 'undefined') {\n",
       "        require.undef(\"plotly\");\n",
       "        requirejs.config({\n",
       "            paths: {\n",
       "                'plotly': ['https://cdn.plot.ly/plotly-2.20.0.min']\n",
       "            }\n",
       "        });\n",
       "        require(['plotly'], function(Plotly) {\n",
       "            window._Plotly = Plotly;\n",
       "        });\n",
       "        }\n",
       "        </script>\n",
       "        "
      ]
     },
     "metadata": {},
     "output_type": "display_data"
    }
   ],
   "source": [
    "import matplotlib.pyplot as plt\n",
    "import numpy as np\n",
    "import pandas as pd\n",
    "import plotly.express as px\n",
    "import plotly.graph_objects as go\n",
    "import polars as pl\n",
    "import seaborn as sns\n",
    "from plotly.offline import init_notebook_mode\n",
    "\n",
    "init_notebook_mode(connected=True)\n",
    "\n",
    "pd.set_option(\"display.max_columns\", None)\n",
    "pd.set_option(\"display.max_colwidth\", None)\n",
    "pd.set_option(\"display.max_rows\", 50)\n",
    "pl.Config.set_tbl_cols(999)\n",
    "pl.Config.set_tbl_rows(30)\n",
    "\n",
    "# plt.style.use(\"ggplot\")\n",
    "sns.set()\n",
    "plt.rcParams[\"font.family\"] = [\"Noto Sans JP\"]\n",
    "plt.rcParams[\"mathtext.fontset\"] = \"cm\"\n",
    "# plt.rcParams[\"font.size\"] = 10.5\n",
    "\n",
    "%matplotlib inline\n",
    "%config InlineBackend.figure_format = \"retina\""
   ]
  },
  {
   "cell_type": "code",
   "execution_count": 2,
   "metadata": {},
   "outputs": [],
   "source": [
    "import os\n",
    "\n",
    "INPUT_DIR = \"../data/\"\n",
    "OUTPUT_DIR = \"../output\""
   ]
  },
  {
   "cell_type": "code",
   "execution_count": 3,
   "metadata": {},
   "outputs": [],
   "source": [
    "df_anime = pd.read_csv(os.path.join(INPUT_DIR, \"anime.csv\"))\n",
    "df_train = pd.read_csv(os.path.join(INPUT_DIR, \"train.csv\"))\n",
    "df_test = pd.read_csv(os.path.join(INPUT_DIR, \"test.csv\"))"
   ]
  },
  {
   "cell_type": "markdown",
   "metadata": {},
   "source": [
    "## Utils"
   ]
  },
  {
   "cell_type": "code",
   "execution_count": 56,
   "metadata": {},
   "outputs": [],
   "source": [
    "from sklearn.metrics import mean_squared_error\n",
    "\n",
    "\n",
    "def rmse(y_true, y_pred):\n",
    "    return mean_squared_error(y_true, y_pred) ** 0.5"
   ]
  },
  {
   "cell_type": "markdown",
   "metadata": {},
   "source": [
    "CV用の関数。\n",
    "\n",
    "anime_idの20%は検証用にしか存在しないように分割する"
   ]
  },
  {
   "cell_type": "code",
   "execution_count": 18,
   "metadata": {},
   "outputs": [],
   "source": [
    "import numpy as np\n",
    "import pandas as pd\n",
    "from sklearn.model_selection import KFold\n",
    "\n",
    "\n",
    "def myfold(\n",
    "    X,\n",
    "    groups,\n",
    "    n_splits=5,\n",
    "    group_split_rate=0.2,\n",
    "    spliter=None,\n",
    "    shuffle=True,\n",
    "    random_state=None,\n",
    "):\n",
    "    if random_state:\n",
    "        np.random.seed(random_state)\n",
    "\n",
    "    if spliter is None:\n",
    "        spliter = KFold(n_splits, shuffle=shuffle, random_state=random_state)\n",
    "    n_samples = len(X)\n",
    "\n",
    "    unique_groups, groups = np.unique(groups, return_inverse=True)\n",
    "    group_split_sample_num = (n_samples / n_splits) * group_split_rate\n",
    "    # [index: group_id, そのグループのレコード数]\n",
    "    df_group = (\n",
    "        pd.value_counts(groups).to_frame(\"n_sample_per_group\")\n",
    "        # .reset_index(columns={\"index\", \"groups\"})\n",
    "    )\n",
    "    df_group[\"fold\"] = -1\n",
    "    if shuffle:\n",
    "        df_group = df_group.sample(frac=1)\n",
    "\n",
    "    # shape: グループ数。グループごとのサンプル数\n",
    "    # n_samples_per_group = np.bincount(groups)\n",
    "\n",
    "    n_samples_per_fold = np.zeros(n_splits)\n",
    "    for group_index, data in df_group.iterrows():\n",
    "        n_sample_in_group = data[\"n_sample_per_group\"]\n",
    "        lightest_fold = np.argmin(n_samples_per_fold)\n",
    "        n_samples_per_fold[lightest_fold] += n_sample_in_group\n",
    "        df_group[\"fold\"][group_index] = lightest_fold\n",
    "        if n_samples_per_fold.min() > group_split_sample_num:\n",
    "            break\n",
    "\n",
    "    indices = df_group[\"fold\"][groups].values\n",
    "    not_group_indices = np.where(indices == -1)[0]\n",
    "    for i, (_, index) in enumerate(spliter.split(not_group_indices)):\n",
    "        indices[not_group_indices[index]] = i\n",
    "\n",
    "    for i in range(n_splits):\n",
    "        yield np.where(indices != i)[0], np.where(indices == i)[0]"
   ]
  },
  {
   "cell_type": "code",
   "execution_count": null,
   "metadata": {},
   "outputs": [],
   "source": [
    "import os\n",
    "\n",
    "INPUT_DIR = \"../data/\"\n",
    "OUTPUT_DIR = \"../output\""
   ]
  },
  {
   "cell_type": "code",
   "execution_count": null,
   "metadata": {},
   "outputs": [],
   "source": [
    "df_anime = pd.read_csv(os.path.join(INPUT_DIR, \"anime.csv\"))\n",
    "df_train = pd.read_csv(os.path.join(INPUT_DIR, \"train.csv\"))\n",
    "df_test = pd.read_csv(os.path.join(INPUT_DIR, \"test.csv\"))"
   ]
  },
  {
   "cell_type": "markdown",
   "metadata": {},
   "source": [
    "## データ整備"
   ]
  },
  {
   "cell_type": "code",
   "execution_count": 5,
   "metadata": {},
   "outputs": [
    {
     "data": {
      "text/html": [
       "<div>\n",
       "<style scoped>\n",
       "    .dataframe tbody tr th:only-of-type {\n",
       "        vertical-align: middle;\n",
       "    }\n",
       "\n",
       "    .dataframe tbody tr th {\n",
       "        vertical-align: top;\n",
       "    }\n",
       "\n",
       "    .dataframe thead th {\n",
       "        text-align: right;\n",
       "    }\n",
       "</style>\n",
       "<table border=\"1\" class=\"dataframe\">\n",
       "  <thead>\n",
       "    <tr style=\"text-align: right;\">\n",
       "      <th></th>\n",
       "      <th>user_id</th>\n",
       "      <th>mean_score</th>\n",
       "      <th>train_anime_num</th>\n",
       "      <th>test_anime_num</th>\n",
       "    </tr>\n",
       "  </thead>\n",
       "  <tbody>\n",
       "    <tr>\n",
       "      <th>0</th>\n",
       "      <td>0008e10fb39e55447333</td>\n",
       "      <td>6.951220</td>\n",
       "      <td>41.0</td>\n",
       "      <td>27.0</td>\n",
       "    </tr>\n",
       "    <tr>\n",
       "      <th>1</th>\n",
       "      <td>001a7aed2546342e2602</td>\n",
       "      <td>7.512500</td>\n",
       "      <td>160.0</td>\n",
       "      <td>122.0</td>\n",
       "    </tr>\n",
       "    <tr>\n",
       "      <th>2</th>\n",
       "      <td>003d4b0257cc7849ffe1</td>\n",
       "      <td>8.000000</td>\n",
       "      <td>35.0</td>\n",
       "      <td>24.0</td>\n",
       "    </tr>\n",
       "    <tr>\n",
       "      <th>3</th>\n",
       "      <td>0054e700b5be6e074fb7</td>\n",
       "      <td>8.166667</td>\n",
       "      <td>6.0</td>\n",
       "      <td>5.0</td>\n",
       "    </tr>\n",
       "    <tr>\n",
       "      <th>4</th>\n",
       "      <td>0059344eed7e8ca0b6c5</td>\n",
       "      <td>7.600000</td>\n",
       "      <td>10.0</td>\n",
       "      <td>7.0</td>\n",
       "    </tr>\n",
       "    <tr>\n",
       "      <th>...</th>\n",
       "      <td>...</td>\n",
       "      <td>...</td>\n",
       "      <td>...</td>\n",
       "      <td>...</td>\n",
       "    </tr>\n",
       "    <tr>\n",
       "      <th>1993</th>\n",
       "      <td>fa11453a6cca09c82953</td>\n",
       "      <td>NaN</td>\n",
       "      <td>NaN</td>\n",
       "      <td>29.0</td>\n",
       "    </tr>\n",
       "    <tr>\n",
       "      <th>1994</th>\n",
       "      <td>fa532dafc50ad8439e1d</td>\n",
       "      <td>NaN</td>\n",
       "      <td>NaN</td>\n",
       "      <td>448.0</td>\n",
       "    </tr>\n",
       "    <tr>\n",
       "      <th>1995</th>\n",
       "      <td>fcf79144bf18fdb90aa5</td>\n",
       "      <td>NaN</td>\n",
       "      <td>NaN</td>\n",
       "      <td>51.0</td>\n",
       "    </tr>\n",
       "    <tr>\n",
       "      <th>1996</th>\n",
       "      <td>fd64597be5e54f4ac9d3</td>\n",
       "      <td>NaN</td>\n",
       "      <td>NaN</td>\n",
       "      <td>1.0</td>\n",
       "    </tr>\n",
       "    <tr>\n",
       "      <th>1997</th>\n",
       "      <td>ffe85a36cd20500faa58</td>\n",
       "      <td>NaN</td>\n",
       "      <td>NaN</td>\n",
       "      <td>57.0</td>\n",
       "    </tr>\n",
       "  </tbody>\n",
       "</table>\n",
       "<p>1998 rows × 4 columns</p>\n",
       "</div>"
      ],
      "text/plain": [
       "                   user_id  mean_score  train_anime_num  test_anime_num\n",
       "0     0008e10fb39e55447333    6.951220             41.0            27.0\n",
       "1     001a7aed2546342e2602    7.512500            160.0           122.0\n",
       "2     003d4b0257cc7849ffe1    8.000000             35.0            24.0\n",
       "3     0054e700b5be6e074fb7    8.166667              6.0             5.0\n",
       "4     0059344eed7e8ca0b6c5    7.600000             10.0             7.0\n",
       "...                    ...         ...              ...             ...\n",
       "1993  fa11453a6cca09c82953         NaN              NaN            29.0\n",
       "1994  fa532dafc50ad8439e1d         NaN              NaN           448.0\n",
       "1995  fcf79144bf18fdb90aa5         NaN              NaN            51.0\n",
       "1996  fd64597be5e54f4ac9d3         NaN              NaN             1.0\n",
       "1997  ffe85a36cd20500faa58         NaN              NaN            57.0\n",
       "\n",
       "[1998 rows x 4 columns]"
      ]
     },
     "execution_count": 5,
     "metadata": {},
     "output_type": "execute_result"
    }
   ],
   "source": [
    "def hook_user(df_train, df_test):\n",
    "    df_user = pd.DataFrame({\"user_id\": pd.concat([df_train, df_test]).user_id.unique()})\n",
    "    df_train_agg = (\n",
    "        df_train.groupby(\"user_id\")\n",
    "        .agg(mean_score=(\"score\", \"mean\"), train_anime_num=(\"anime_id\", \"nunique\"))\n",
    "        .reset_index()\n",
    "    )\n",
    "    df_test_agg = (\n",
    "        df_test.groupby(\"user_id\")\n",
    "        .agg(test_anime_num=(\"anime_id\", \"nunique\"))\n",
    "        .reset_index()\n",
    "    )\n",
    "\n",
    "    df_user = df_user.merge(df_train_agg, on=\"user_id\", how=\"left\").merge(\n",
    "        df_test_agg, on=\"user_id\", how=\"left\"\n",
    "    )\n",
    "    return df_user\n",
    "\n",
    "\n",
    "df_user_summary = hook_user(df_train, df_test)\n",
    "df_user_summary"
   ]
  },
  {
   "cell_type": "code",
   "execution_count": 6,
   "metadata": {},
   "outputs": [],
   "source": [
    "def hook_anime(df_anime, df_train, df_test):\n",
    "    df_train_agg = (\n",
    "        df_train.groupby(\"anime_id\")\n",
    "        .agg(mean_score=(\"score\", \"mean\"), train_user_num=(\"user_id\", \"nunique\"))\n",
    "        .reset_index()\n",
    "    )\n",
    "    df_test_agg = (\n",
    "        df_test.groupby(\"anime_id\")\n",
    "        .agg(test_user_num=(\"user_id\", \"nunique\"))\n",
    "        .reset_index()\n",
    "    )\n",
    "\n",
    "    df_anime = df_anime.merge(df_train_agg, on=\"anime_id\", how=\"left\").merge(\n",
    "        df_test_agg, on=\"anime_id\", how=\"left\"\n",
    "    )\n",
    "    # 期間をはじめと終わりの2つのカラムに分割\n",
    "    df_anime = df_anime.join(\n",
    "        df_anime[\"aired\"]\n",
    "        .str.split(\" to \", expand=True)\n",
    "        .rename(columns={0: \"start\", 1: \"end\"})\n",
    "        .replace({\"Unknown\": None, \"?\": None})\n",
    "        .assign(\n",
    "            start=lambda df: pd.to_datetime(df[\"start\"]),\n",
    "            end=lambda df: pd.to_datetime(df[\"end\"]),\n",
    "        )\n",
    "    )\n",
    "    # genresを分割して縦持ちに(UNNEST CORSS JOIN)\n",
    "    df_anime = df_anime.drop(columns=[\"genres\"]).join(\n",
    "        df_anime[\"genres\"].str.split(\",\").explode()\n",
    "    )\n",
    "    return df_anime\n",
    "\n",
    "\n",
    "df_anime_summary = hook_anime(df_anime, df_train, df_test)"
   ]
  },
  {
   "cell_type": "code",
   "execution_count": 92,
   "metadata": {},
   "outputs": [],
   "source": [
    "from surprise import Dataset, SVDpp, SVD, Reader\n",
    "\n",
    "\n",
    "def get_predict_df(predictins):\n",
    "    user_id = [p[0] for p in predictins]\n",
    "    anime_id = [p[1] for p in predictins]\n",
    "    score = [p[2] for p in predictins]\n",
    "    pred = [p[3] for p in predictins]\n",
    "    return pd.DataFrame({\"user_id\": user_id, \"anime_id\": anime_id, \"score\": score, \"pred\": pred})"
   ]
  },
  {
   "cell_type": "code",
   "execution_count": 93,
   "metadata": {},
   "outputs": [
    {
     "name": "stdout",
     "output_type": "stream",
     "text": [
      "rmse:  1.227981189977481\n",
      "rmse:  1.2216562853119104\n",
      "rmse:  1.2342854056922643\n",
      "rmse:  1.2485903660646969\n",
      "rmse:  1.2598544564805756\n"
     ]
    }
   ],
   "source": [
    "df_pred = df_train.copy()\n",
    "df_pred[\"pred\"] = -1\n",
    "df_pred[\"only_val\"] = False\n",
    "df_pred[\"fold\"] = -1\n",
    "\n",
    "\n",
    "for i, (train_ind, val_ind) in enumerate(\n",
    "    myfold(\n",
    "        df_train[\"score\"].values,\n",
    "        df_train[\"anime_id\"].values,\n",
    "        n_splits=5,\n",
    "        group_split_rate=0.2,\n",
    "        shuffle=True,\n",
    "        random_state=42,\n",
    "    )\n",
    "):\n",
    "    df_train_train = df_train.iloc[train_ind, :]\n",
    "    df_train_val = df_train.iloc[val_ind, :]\n",
    "    df_pred.loc[val_ind, \"fold\"] = i\n",
    "    df_pred[\"only_val\"] = df_pred[\"only_val\"].mask(\n",
    "        df_pred.anime_id.isin(\n",
    "            np.setdiff1d(\n",
    "                df_train_val.anime_id.unique(), df_train_train.anime_id.unique()\n",
    "            )\n",
    "        ),\n",
    "        True,\n",
    "    )\n",
    "\n",
    "    train_dataset = Dataset.load_from_df(df_train_train, reader).build_full_trainset()\n",
    "    val_dataset = (\n",
    "        Dataset.load_from_df(df_train_val, reader).build_full_trainset().build_testset()\n",
    "    )\n",
    "\n",
    "    svd = SVDpp()\n",
    "    svd.fit(train_dataset)\n",
    "    predictins = svd.test(val_dataset)\n",
    "    df_pred_val = get_predict_df(predictins)\n",
    "    print(\"rmse: \", rmse(df_pred_val[\"score\"], df_pred_val[\"pred\"]))\n",
    "    df_pred = df_pred.merge(df_pred_val, on=[\"user_id\", \"anime_id\"], how=\"left\")\n",
    "    df_pred[\"pred\"] = df_pred[\"pred_y\"].combine_first(df_pred[\"pred_x\"])\n",
    "    df_pred = df_pred.rename(columns={\"score_x\": \"score\"}).drop(\n",
    "        columns=[\"pred_x\", \"score_y\", \"pred_y\"]\n",
    "    )"
   ]
  },
  {
   "cell_type": "markdown",
   "metadata": {},
   "source": [
    "rmse:  1.2398783149875572\n",
    "rmse:  1.2304318719821288\n",
    "rmse:  1.2444645304443789\n",
    "rmse:  1.2533717015765762\n",
    "rmse:  1.263766584339434"
   ]
  },
  {
   "cell_type": "code",
   "execution_count": 99,
   "metadata": {},
   "outputs": [],
   "source": [
    "train_dataset = Dataset.load_from_df(df_train, reader).build_full_trainset()\n",
    "val_dataset = (\n",
    "    Dataset.load_from_df(df_test.assign(score=7), reader).build_full_trainset().build_testset()\n",
    ")\n",
    "svd = SVDpp()\n",
    "svd.fit(train_dataset)\n",
    "predictins = svd.test(val_dataset)\n",
    "df_pred_val = get_predict_df(predictins)"
   ]
  },
  {
   "cell_type": "code",
   "execution_count": 105,
   "metadata": {},
   "outputs": [],
   "source": [
    "df_pred_val[\"pred\"].to_frame(\"score\").to_csv(\"mf_01.csv\", index=False)"
   ]
  },
  {
   "cell_type": "code",
   "execution_count": 102,
   "metadata": {},
   "outputs": [
    {
     "data": {
      "text/html": [
       "<div>\n",
       "<style scoped>\n",
       "    .dataframe tbody tr th:only-of-type {\n",
       "        vertical-align: middle;\n",
       "    }\n",
       "\n",
       "    .dataframe tbody tr th {\n",
       "        vertical-align: top;\n",
       "    }\n",
       "\n",
       "    .dataframe thead th {\n",
       "        text-align: right;\n",
       "    }\n",
       "</style>\n",
       "<table border=\"1\" class=\"dataframe\">\n",
       "  <thead>\n",
       "    <tr style=\"text-align: right;\">\n",
       "      <th></th>\n",
       "      <th>score</th>\n",
       "    </tr>\n",
       "  </thead>\n",
       "  <tbody>\n",
       "    <tr>\n",
       "      <th>0</th>\n",
       "      <td>6.478691</td>\n",
       "    </tr>\n",
       "    <tr>\n",
       "      <th>1</th>\n",
       "      <td>2.513589</td>\n",
       "    </tr>\n",
       "    <tr>\n",
       "      <th>2</th>\n",
       "      <td>2.212736</td>\n",
       "    </tr>\n",
       "    <tr>\n",
       "      <th>3</th>\n",
       "      <td>6.608664</td>\n",
       "    </tr>\n",
       "    <tr>\n",
       "      <th>4</th>\n",
       "      <td>6.339157</td>\n",
       "    </tr>\n",
       "    <tr>\n",
       "      <th>...</th>\n",
       "      <td>...</td>\n",
       "    </tr>\n",
       "    <tr>\n",
       "      <th>117671</th>\n",
       "      <td>4.182134</td>\n",
       "    </tr>\n",
       "    <tr>\n",
       "      <th>117672</th>\n",
       "      <td>9.782259</td>\n",
       "    </tr>\n",
       "    <tr>\n",
       "      <th>117673</th>\n",
       "      <td>5.659402</td>\n",
       "    </tr>\n",
       "    <tr>\n",
       "      <th>117674</th>\n",
       "      <td>5.764207</td>\n",
       "    </tr>\n",
       "    <tr>\n",
       "      <th>117675</th>\n",
       "      <td>5.995664</td>\n",
       "    </tr>\n",
       "  </tbody>\n",
       "</table>\n",
       "<p>117676 rows × 1 columns</p>\n",
       "</div>"
      ],
      "text/plain": [
       "           score\n",
       "0       6.478691\n",
       "1       2.513589\n",
       "2       2.212736\n",
       "3       6.608664\n",
       "4       6.339157\n",
       "...          ...\n",
       "117671  4.182134\n",
       "117672  9.782259\n",
       "117673  5.659402\n",
       "117674  5.764207\n",
       "117675  5.995664\n",
       "\n",
       "[117676 rows x 1 columns]"
      ]
     },
     "execution_count": 102,
     "metadata": {},
     "output_type": "execute_result"
    }
   ],
   "source": [
    "df_submission = pd.read_csv(\"../data/sample_submission.csv\")\n",
    "df_submission"
   ]
  },
  {
   "cell_type": "code",
   "execution_count": 94,
   "metadata": {},
   "outputs": [
    {
     "data": {
      "text/plain": [
       "1.2385553909055067"
      ]
     },
     "execution_count": 94,
     "metadata": {},
     "output_type": "execute_result"
    }
   ],
   "source": [
    "rmse(df_pred[\"score\"], df_pred[\"pred\"])"
   ]
  },
  {
   "cell_type": "code",
   "execution_count": 95,
   "metadata": {},
   "outputs": [
    {
     "data": {
      "text/plain": [
       "1.3834241491204649"
      ]
     },
     "execution_count": 95,
     "metadata": {},
     "output_type": "execute_result"
    }
   ],
   "source": [
    "rmse(df_pred.query(\"only_val\")[\"score\"], df_pred.query(\"only_val\")[\"pred\"])"
   ]
  },
  {
   "cell_type": "code",
   "execution_count": 96,
   "metadata": {},
   "outputs": [
    {
     "data": {
      "text/plain": [
       "1.19904598346898"
      ]
     },
     "execution_count": 96,
     "metadata": {},
     "output_type": "execute_result"
    }
   ],
   "source": [
    "rmse(df_pred.query(\"~only_val\")[\"score\"], df_pred.query(\"~only_val\")[\"pred\"])"
   ]
  },
  {
   "cell_type": "code",
   "execution_count": 106,
   "metadata": {},
   "outputs": [
    {
     "data": {
      "text/plain": [
       "3.138554936432211"
      ]
     },
     "execution_count": 106,
     "metadata": {},
     "output_type": "execute_result"
    }
   ],
   "source": [
    "rmse(df_pred.query(\"score < 5\")[\"score\"], df_pred.query(\"score < 5\")[\"pred\"])"
   ]
  },
  {
   "cell_type": "code",
   "execution_count": 39,
   "metadata": {},
   "outputs": [
    {
     "data": {
      "text/plain": [
       "<surprise.prediction_algorithms.matrix_factorization.SVD at 0x7ff2671af580>"
      ]
     },
     "execution_count": 39,
     "metadata": {},
     "output_type": "execute_result"
    }
   ],
   "source": [
    "from surprise import SVD\n",
    "\n",
    "svd = SVD()\n",
    "svd.fit(train_dataset)"
   ]
  },
  {
   "cell_type": "code",
   "execution_count": 41,
   "metadata": {},
   "outputs": [],
   "source": [
    "predictins = svd.test(val_dataset)"
   ]
  },
  {
   "cell_type": "code",
   "execution_count": 51,
   "metadata": {},
   "outputs": [
    {
     "data": {
      "text/plain": [
       "'0008e10fb39e55447333'"
      ]
     },
     "execution_count": 51,
     "metadata": {},
     "output_type": "execute_result"
    }
   ],
   "source": [
    "predictins[0][0]"
   ]
  },
  {
   "cell_type": "code",
   "execution_count": 54,
   "metadata": {},
   "outputs": [],
   "source": [
    "def get_predict_df(predictins):\n",
    "    user_id = [p[0] for p in predictins]\n",
    "    anime_id = [p[1] for p in predictins]\n",
    "    score = [p[2] for p in predictins]\n",
    "    pred = [p[3] for p in predictins]\n",
    "    return pd.DataFrame({\"user_id\": user_id, \"anime_id\": anime_id, \"score\": score, \"pred\": pred})"
   ]
  },
  {
   "cell_type": "code",
   "execution_count": 57,
   "metadata": {},
   "outputs": [],
   "source": [
    "df_pred = get_predict_df(predictins)"
   ]
  },
  {
   "cell_type": "code",
   "execution_count": 58,
   "metadata": {},
   "outputs": [
    {
     "data": {
      "text/plain": [
       "1.2398783149875572"
      ]
     },
     "execution_count": 58,
     "metadata": {},
     "output_type": "execute_result"
    }
   ],
   "source": [
    "rmse(df_pred[\"score\"], df_pred[\"pred\"])"
   ]
  }
 ],
 "metadata": {
  "kernelspec": {
   "display_name": "ds",
   "language": "python",
   "name": "python3"
  },
  "language_info": {
   "codemirror_mode": {
    "name": "ipython",
    "version": 3
   },
   "file_extension": ".py",
   "mimetype": "text/x-python",
   "name": "python",
   "nbconvert_exporter": "python",
   "pygments_lexer": "ipython3",
   "version": "3.10.6"
  },
  "orig_nbformat": 4
 },
 "nbformat": 4,
 "nbformat_minor": 2
}
